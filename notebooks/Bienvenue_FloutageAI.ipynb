{
 "cells": [
  {
   "cell_type": "markdown",
   "id": "d14be6f5",
   "metadata": {},
   "source": [
    "# Bienvenue à l’équipe Floutage AI!\n",
    "\n",
    "Ce notebook marque le début de notre collaboration.\n",
    "\n",
    "## Objectif\n",
    "Créer ensemble une application intelligente pour le floutage automatique dans les vidéos.\n",
    "\n",
    "## Pour commencer\n",
    "- Testez votre environnement\n",
    "- Importez vos premières bibliothèques\n",
    "- Échangez via les branches `prenom-dev`\n",
    "\n",
    "Bonne collaboration à tous !\n",
    "\n",
    "— Hamza"
   ]
  },
  {
   "cell_type": "code",
   "execution_count": null,
   "id": "03b25545-653c-4187-8799-cdc1d23e8a04",
   "metadata": {},
   "outputs": [],
   "source": []
  }
 ],
 "metadata": {
  "kernelspec": {
   "display_name": "Floutage IA (Docker)",
   "language": "python",
   "name": "floutage-ia"
  },
  "language_info": {
   "codemirror_mode": {
    "name": "ipython",
    "version": 3
   },
   "file_extension": ".py",
   "mimetype": "text/x-python",
   "name": "python",
   "nbconvert_exporter": "python",
   "pygments_lexer": "ipython3",
   "version": "3.10.12"
  }
 },
 "nbformat": 4,
 "nbformat_minor": 5
}
