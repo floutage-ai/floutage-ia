{
 "cells": [
  {
   "cell_type": "code",
   "execution_count": null,
   "id": "2ef2e8a0-a7f0-47f9-aabb-2bca9207a246",
   "metadata": {},
   "outputs": [],
   "source": [
    "print ('')"
   ]
  }
 ],
 "metadata": {
  "kernelspec": {
   "display_name": "Floutage IA (Docker)",
   "language": "python",
   "name": "floutage-ia"
  },
  "language_info": {
   "codemirror_mode": {
    "name": "ipython",
    "version": 3
   },
   "file_extension": ".py",
   "mimetype": "text/x-python",
   "name": "python",
   "nbconvert_exporter": "python",
   "pygments_lexer": "ipython3",
   "version": "3.10.12"
  }
 },
 "nbformat": 4,
 "nbformat_minor": 5
}
