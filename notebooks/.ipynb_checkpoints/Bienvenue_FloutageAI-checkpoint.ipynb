{
 "cells": [
  {
   "cell_type": "markdown",
   "id": "d14be6f5",
   "metadata": {},
   "source": [
    "# 👋 Bienvenue à l’équipe Floutage AI!\n",
    "\n",
    "Ce notebook marque le début de notre collaboration.\n",
    "\n",
    "## 🧠 Objectif\n",
    "Créer ensemble une application intelligente pour le floutage automatique dans les vidéos.\n",
    "\n",
    "## 🔧 Pour commencer\n",
    "- Testez votre environnement\n",
    "- Importez vos premières bibliothèques\n",
    "- Échangez via les branches `prenom-dev`\n",
    "\n",
    "Bonne collaboration à tous ! 🚀\n",
    "\n",
    "— Hamza"
   ]
  }
 ],
 "metadata": {},
 "nbformat": 4,
 "nbformat_minor": 5
}